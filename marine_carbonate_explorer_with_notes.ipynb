{
 "cells": [
  {
   "cell_type": "markdown",
   "id": "58b23153",
   "metadata": {},
   "source": [
    "# 🌊 Marine Carbonate Visualizer\n",
    "\n",
    "**Author:** José Gilberto Cardoso Mohedano  \n",
    "**Institution:** Instituto de Ciencias del Mar y Limnología, UNAM, Estación El Carmen  \n",
    "**License:** [CC BY-NC 4.0](https://creativecommons.org/licenses/by-nc/4.0/)  \n",
    "**ORCID:** [0000-0002-2918-972X](https://orcid.org/0000-0002-2918-972X)\n",
    "\n",
    "---\n",
    "This tool allows interactive exploration of the marine carbonate system using PyCO2SYS.  \n",
    "Developed with support from [OpenAI ChatGPT](https://openai.com/chatgpt) and educational Python tools.\n"
   ]
  },
  {
   "cell_type": "markdown",
   "id": "269a655f",
   "metadata": {},
   "source": [
    "\n",
    "---\n",
    "\n",
    "## 📘 *Computing the Carbonate System in Seawater*\n",
    "\n",
    "This function allows you to calculate key parameters of the marine **carbonate system** using the Python package **PyCO2SYS**, a standard tool in oceanography.\n",
    "\n",
    "---\n",
    "\n",
    "#### 🧮 What does the function compute?\n",
    "\n",
    "Given:\n",
    "\n",
    "* **Total alkalinity** (TA) in µmol/kg\n",
    "* **Dissolved Inorganic Carbon** (DIC) in µmol/kg\n",
    "\n",
    "and assuming:\n",
    "\n",
    "* Constant **salinity** (default = 35 PSU)\n",
    "* Constant **temperature** (default = 25 °C)\n",
    "\n",
    "The function returns:\n",
    "\n",
    "* **pH** (on the total scale)\n",
    "* **pCO₂** (partial pressure of CO₂ in µatm)\n",
    "* **\\[HCO₃⁻]** (bicarbonate ion concentration)\n",
    "* **\\[CO₃²⁻]** (carbonate ion concentration)\n",
    "\n",
    "---\n",
    "\n",
    "#### ⚙️ Why do we use `par1_type=1` and `par2_type=2`?\n",
    "\n",
    "In `PyCO2SYS`, parameters must be encoded with numeric types:\n",
    "\n",
    "* `par1_type = 1` → **Alkalinity**\n",
    "* `par2_type = 2` → **DIC**\n",
    "\n",
    "This tells the software which pair of inputs you're using to define the carbonate system.\n",
    "\n",
    "---\n",
    "\n",
    "#### 🧑‍🏫 Use in class:\n",
    "\n",
    "This function is a clean starting point for:\n",
    "\n",
    "* Modeling how ocean chemistry changes under different DIC and TA conditions\n",
    "* Exploring ocean acidification scenarios\n",
    "* Building interactive tools to visualize carbonate equilibria\n",
    "\n",
    "---\n"
   ]
  },
  {
   "cell_type": "code",
   "execution_count": 1,
   "id": "7c75a0a6",
   "metadata": {},
   "outputs": [],
   "source": [
    "import PyCO2SYS as pyco2\n",
    "\n",
    "def compute_carbonate_system(alkalinity, DIC, salinity=35, temperature=25):\n",
    "    # Run CO2SYS using alkalinity and DIC as input parameters\n",
    "    results = pyco2.sys(\n",
    "        par1=alkalinity,      # par1_type = 1 → Total Alkalinity (µmol/kg)\n",
    "        par2=DIC,             # par2_type = 2 → DIC = Dissolved Inorganic Carbon (µmol/kg)\n",
    "        par1_type=1,          # 1 = total alkalinity\n",
    "        par2_type=2,          # 2 = DIC\n",
    "        salinity=salinity,    # Salinity in PSU\n",
    "        temperature=temperature  # Temperature in °C\n",
    "    )\n",
    "\n",
    "    # Return selected key results in a dictionary\n",
    "    return {\n",
    "        \"pH_total\": results[\"pH_total\"],         # pH on the total scale\n",
    "        \"pCO2\": results[\"pCO2\"],                 # partial pressure of CO₂ (µatm)\n",
    "        \"bicarbonate\": results[\"bicarbonate\"],   # HCO₃⁻ concentration (µmol/kg)\n",
    "        \"carbonate\": results[\"carbonate\"],       # CO₃²⁻ concentration (µmol/kg)\n",
    "        \"salinity\": salinity,\n",
    "        \"temperature\": temperature\n",
    "    }\n",
    "\n"
   ]
  },
  {
   "cell_type": "markdown",
   "id": "a5a62146",
   "metadata": {},
   "source": [
    "\n",
    "This function displays the **salinity** and **temperature** values used in the carbonate system calculation.\n",
    "It uses `IPython.display.HTML` to format the output with clear icons, readable font, and consistent color matching the rest of the interface.\n",
    "\n",
    "* 🧪 The heading indicates constant conditions were applied.\n",
    "* 🔹 Salinity is expressed in PSU (Practical Salinity Units).\n",
    "* 🌡️ Temperature is shown in degrees Celsius.\n",
    "\n",
    "The use of HTML instead of `print()` improves readability and visual harmony with the graphical output (e.g., Plotly indicators).\n"
   ]
  },
  {
   "cell_type": "code",
   "execution_count": 2,
   "id": "cb33bc98",
   "metadata": {},
   "outputs": [],
   "source": [
    "from IPython.display import display, HTML\n",
    "\n",
    "def show_conditions(data):\n",
    "    html = f\"\"\"\n",
    "    <div style=\"font-size: 16px; color: #00204C; font-family: sans-serif;\">\n",
    "        <p><strong>🧪 Conditions used in the calculation:</strong></p>\n",
    "        <p>🔹 Salinity: {data['salinity']:.0f} PSU</p>\n",
    "        <p>🌡️ Temperature: {data['temperature']:.0f} °C</p>\n",
    "    </div>\n",
    "    \"\"\"\n",
    "    display(HTML(html))\n"
   ]
  },
  {
   "cell_type": "markdown",
   "id": "2a017d7a",
   "metadata": {},
   "source": [
    "<style>\n",
    "/* Texto de descripción */\n",
    ".widget-label {\n",
    "    font-size: 18pt !important;\n",
    "    font-weight: bold;\n",
    "    color: #003f5c;\n",
    "}\n",
    "\n",
    "/* Número mostrado a la derecha */\n",
    ".widget-readout {\n",
    "    font-size: 18pt !important;\n",
    "    font-weight: bold;\n",
    "    color: #003f5c;\n",
    "}\n",
    "\n",
    "/* Grosor y color del slider */\n",
    "input[type=range] {\n",
    "    height: 12px;\n",
    "    background: linear-gradient(to right, #003f5c, #58508d);\n",
    "    border-radius: 6px;\n",
    "}\n",
    "</style>\n"
   ]
  },
  {
   "cell_type": "markdown",
   "id": "90aeb23e",
   "metadata": {},
   "source": [
    "\n",
    "\n",
    "### 📊 Visualizing Carbonate System Results\n",
    "\n",
    "The following function creates a visual summary of the carbonate system using four large numerical indicators. Each indicator displays a key chemical variable relevant to ocean acidification and seawater buffering.\n",
    "\n",
    "* **pCO₂** (µatm): Partial pressure of carbon dioxide in seawater\n",
    "* **HCO₃⁻** and **CO₃²⁻** (µmol/kg): Concentrations of bicarbonate and carbonate ions\n",
    "* **pH (total scale)**: Acidity level of seawater\n",
    "\n",
    "#### 👁️ Accessible and userfriendly design\n",
    "\n",
    "* Colors follow the **Cividis palette**,\n",
    "* Numeric values are displayed in **large, readable font**\n",
    "* Chemical formulas use HTML to show subscripts/superscripts correctly\n",
    "* Layout is horizontal for easy comparison between variables\n",
    "\n",
    "This visual output is ideal for classroom use, helping students understand how changes in total alkalinity and DIC affect the carbonate system.\n"
   ]
  },
  {
   "cell_type": "code",
   "execution_count": 3,
   "id": "22c33aa0",
   "metadata": {},
   "outputs": [],
   "source": [
    "import plotly.graph_objs as go\n",
    "\n",
    "def display_indicators(data):\n",
    "    colors = [\"#00204C\", \"#40587C\", \"#A1B56C\", \"#FDE725\"]  # Cividis palette\n",
    "\n",
    "    labels = [\n",
    "        (\"pCO<sub>2</sub> (µatm)\", data[\"pCO2\"], \".0f\"),\n",
    "        (\"HCO<sub>3</sub><sup>-</sup> (µmol/kg)\", data[\"bicarbonate\"], \".0f\"),\n",
    "        (\"CO<sub>3</sub><sup>2-</sup> (µmol/kg)\", data[\"carbonate\"], \".0f\"),\n",
    "        (\"pH (total scale)\", data[\"pH_total\"], \".2f\")\n",
    "    ]\n",
    "\n",
    "    fig = go.Figure()\n",
    "    for i, (label, value, fmt) in enumerate(labels):\n",
    "        fig.add_trace(go.Indicator(\n",
    "            mode=\"number\",\n",
    "            value=value,\n",
    "            number={\"valueformat\": fmt, \"font\": {\"size\": 48, \"color\": colors[i]}},\n",
    "            title={\"text\": label, \"font\": {\"size\": 18}},\n",
    "            domain={\"row\": 0, \"column\": i}\n",
    "        ))\n",
    "\n",
    "    fig.update_layout(\n",
    "        grid={\"rows\": 1, \"columns\": 4, \"pattern\": \"independent\"},\n",
    "        template=\"simple_white\",\n",
    "        margin=dict(t=40, b=20),\n",
    "        height=280\n",
    "    )\n",
    "\n",
    "    fig.show()\n"
   ]
  },
  {
   "cell_type": "code",
   "execution_count": 4,
   "id": "96b58451",
   "metadata": {},
   "outputs": [],
   "source": [
    "from ipywidgets import FloatSlider, Layout, HTML, VBox, interact\n",
    "\n",
    "# Slider style settings: increase text size and align elements\n",
    "slider_style = {'description_width': '260px'}  # ensure full label is visible\n",
    "slider_layout = Layout(\n",
    "    width='750px', margin='0 0 10px 0', justify_content='flex-start'\n",
    ")\n",
    "\n",
    "# FloatSlider for Alkalinity input\n",
    "alk_slider = FloatSlider(\n",
    "    value=2300, min=1500, max=2700, step=10,\n",
    "    description=\"Alkalinity (µmol/kg)\",\n",
    "    style=slider_style, layout=slider_layout,\n",
    "    readout=True, readout_format=\".0f\"\n",
    ")\n",
    "\n",
    "# FloatSlider for DIC input\n",
    "dic_slider = FloatSlider(\n",
    "    value=2000, min=1500, max=2700, step=10,\n",
    "    description=\"DIC (µmol/kg)\",\n",
    "    style=slider_style, layout=slider_layout,\n",
    "    readout=True, readout_format=\".0f\"\n",
    ")\n",
    "\n",
    "# CSS block to enhance visibility: slider bar, labels, and values\n",
    "custom_css = HTML(\"\"\"\n",
    "<style>\n",
    ".widget-label {\n",
    "    font-size: 18pt !important;\n",
    "    font-weight: bold;\n",
    "    color: #00204C !important;\n",
    "}\n",
    ".widget-readout {\n",
    "    font-size: 18pt !important;\n",
    "    font-weight: bold;\n",
    "    color: #00204C !important;\n",
    "}\n",
    "input[type=\"range\"] {\n",
    "    height: 16px !important;\n",
    "    background: linear-gradient(to right, #00204C, #FDE725) !important;\n",
    "    border-radius: 10px;\n",
    "}\n",
    "</style>\n",
    "\"\"\")\n"
   ]
  },
  {
   "cell_type": "markdown",
   "id": "ca168f86",
   "metadata": {},
   "source": [
    "\n",
    "\n",
    "### ⚙️ Interactive Visualization with Sliders\n",
    "\n",
    "This section creates an **interactive tool** to explore how total alkalinity and DIC affect the carbonate system in seawater.\n",
    "\n",
    "By moving the sliders, students can see in real time how these inputs change:\n",
    "\n",
    "* **pCO₂** (µatm)\n",
    "* **HCO₃⁻** and **CO₃²⁻** (µmol/kg)\n",
    "* **pH (total scale)**\n",
    "\n",
    "The salinity and temperature are kept constant and displayed below the indicators.\n",
    "\n",
    "#### 🖱️ How it works:\n",
    "\n",
    "* The `update()` function runs the carbonate system calculation using the selected values.\n",
    "* Results are shown as color-coded numeric indicators (using Plotly).\n",
    "* A styled text block displays the constant **salinity** and **temperature** used in the model.\n",
    "\n",
    "This interactive setup is especially useful for teaching concepts such as ocean acidification, buffering capacity, and carbonate equilibrium.\n"
   ]
  },
  {
   "cell_type": "code",
   "execution_count": 5,
   "id": "970e07cb",
   "metadata": {},
   "outputs": [
    {
     "data": {
      "application/vnd.jupyter.widget-view+json": {
       "model_id": "35366f1c719648b8ab624fb1fe5b68f0",
       "version_major": 2,
       "version_minor": 0
      },
      "text/plain": [
       "HTML(value='\\n<style>\\n.widget-label {\\n    font-size: 18pt !important;\\n    font-weight: bold;\\n    color: #0…"
      ]
     },
     "metadata": {},
     "output_type": "display_data"
    },
    {
     "data": {
      "application/vnd.jupyter.widget-view+json": {
       "model_id": "6644d6d0bdeb40ca87a44fc25da2ace2",
       "version_major": 2,
       "version_minor": 0
      },
      "text/plain": [
       "interactive(children=(FloatSlider(value=2300.0, description='Alkalinity (µmol/kg)', layout=Layout(justify_cont…"
      ]
     },
     "metadata": {},
     "output_type": "display_data"
    },
    {
     "data": {
      "text/plain": [
       "<function __main__.update(alkalinity, DIC)>"
      ]
     },
     "execution_count": 5,
     "metadata": {},
     "output_type": "execute_result"
    }
   ],
   "source": [
    "# Main update function: called every time the user moves a slider\n",
    "def update(alkalinity, DIC):\n",
    "    # Compute carbonate system variables using current slider values\n",
    "    data = compute_carbonate_system(alkalinity, DIC)\n",
    "\n",
    "    # Show visual indicators (pCO₂, pH, HCO₃⁻, CO₃²⁻)\n",
    "    display_indicators(data)\n",
    "\n",
    "    # Show the constant salinity and temperature values used in the model\n",
    "    show_conditions(data)\n",
    "\n",
    "# Display custom CSS styles for consistent font and slider appearance\n",
    "display(custom_css)\n",
    "\n",
    "# Create interactive sliders for alkalinity and DIC\n",
    "# When sliders change, the 'update' function is automatically called\n",
    "interact(update, alkalinity=alk_slider, DIC=dic_slider)\n",
    "\n"
   ]
  },
  {
   "cell_type": "code",
   "execution_count": null,
   "id": "fad71249",
   "metadata": {},
   "outputs": [],
   "source": []
  }
 ],
 "metadata": {
  "kernelspec": {
   "display_name": "carbonate_explorer",
   "language": "python",
   "name": "python3"
  },
  "language_info": {
   "codemirror_mode": {
    "name": "ipython",
    "version": 3
   },
   "file_extension": ".py",
   "mimetype": "text/x-python",
   "name": "python",
   "nbconvert_exporter": "python",
   "pygments_lexer": "ipython3",
   "version": "3.10.18"
  }
 },
 "nbformat": 4,
 "nbformat_minor": 5
}
