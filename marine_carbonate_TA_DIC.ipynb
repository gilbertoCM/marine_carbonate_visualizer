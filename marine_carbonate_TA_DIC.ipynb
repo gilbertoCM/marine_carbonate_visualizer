{
 "cells": [
  {
   "cell_type": "markdown",
   "id": "e05842b9",
   "metadata": {},
   "source": [
    "# 🌊 Marine Carbonate System - TA & DIC\n",
    "\n",
    "**Interactive Bjerrum Plot** using Total Alkalinity and DIC parameters.\n",
    "\n",
    "**Quick Instructions:**\n",
    "- Adjust sliders to change TA and DIC values\n",
    "- Observe real-time carbonate system changes\n",
    "- Use preset buttons for common scenarios\n",
    "\n",
    "---\n",
    "**Author:** Cardoso-Mohedano J.G.  \n",
    "**Institution:** Instituto de Ciencias del Mar y Limnología, UNAM"
   ]
  },
  {
   "cell_type": "code",
   "execution_count": 13,
   "id": "45f4539f",
   "metadata": {},
   "outputs": [],
   "source": [
    "# Essential imports only\n",
    "import PyCO2SYS as pyco2\n",
    "import matplotlib.pyplot as plt\n",
    "import numpy as np\n",
    "from ipywidgets import FloatSlider, VBox, interactive_output, Button, HTML\n",
    "from IPython.display import display"
   ]
  },
  {
   "cell_type": "code",
   "execution_count": 14,
   "id": "5d2743fc",
   "metadata": {},
   "outputs": [],
   "source": [
    "# Simplified calculation function\n",
    "def calc_system(alk, dic):\n",
    "    \"\"\"Calculate carbonate system from TA and DIC\"\"\"\n",
    "    results = pyco2.sys(par1=alk, par2=dic, par1_type=1, par2_type=2,\n",
    "                       salinity=35, temperature=25, pressure=0,\n",
    "                       opt_pH_scale=1, opt_k_carbonic=10)\n",
    "    return {\n",
    "        'pH': float(results['pH_total']),\n",
    "        'pCO2': float(results['pCO2']),\n",
    "        'HCO3': float(results['bicarbonate']),\n",
    "        'CO3': float(results['carbonate']),\n",
    "        'DIC': float(results['dic']),\n",
    "        'omega': float(results['saturation_aragonite'])\n",
    "    }\n",
    "\n",
    "def plot_system(data):\n",
    "    \"\"\"Create simplified 4-panel plot with marine color palette\"\"\"\n",
    "    # Paleta \"Colores del Mar\"\n",
    "    azul_profundo = '#023859'    # Fondo o trazos dominantes\n",
    "    verde_aqua = '#2A9D8F'       # Resaltado o barras positivas\n",
    "    azul_claro = '#87C4D9'       # Rellenos suaves o líneas auxiliares\n",
    "    arena_calida = '#E9C46A'     # Resaltado neutro o categorías\n",
    "    coral_vivo = '#F4A261'       # Alertas o valores negativos\n",
    "    rojo_atardecer = '#E76F51'   # Advertencias o zonas críticas\n",
    "    \n",
    "    plt.close('all')\n",
    "    fig, ((ax1, ax2), (ax3, ax4)) = plt.subplots(2, 2, figsize=(12, 8))\n",
    "    fig.patch.set_facecolor('white')\n",
    "    \n",
    "    # Bjerrum plot\n",
    "    pH_range = np.linspace(5, 10, 30)\n",
    "    H = 10**(-pH_range)\n",
    "    K1, K2 = 1e-6, 1e-9  # Simplified constants\n",
    "    denom = H**2 + K1*H + K1*K2\n",
    "    \n",
    "    ax1.plot(pH_range, H**2/denom, color=azul_profundo, linewidth=2.5, label='CO2')\n",
    "    ax1.plot(pH_range, K1*H/denom, color=verde_aqua, linewidth=2.5, label='HCO3-')\n",
    "    ax1.plot(pH_range, K1*K2/denom, color=azul_claro, linewidth=2.5, label='CO3-2')\n",
    "    ax1.axvline(data['pH'], color=coral_vivo, linestyle='--', linewidth=2)\n",
    "    ax1.set_xlabel('pH'), ax1.set_ylabel('Fraction')\n",
    "    ax1.set_title('Bjerrum Plot'), ax1.legend(), ax1.grid(True, alpha=0.3)\n",
    "    \n",
    "    # Composition pie\n",
    "    CO2_conc = data['pCO2'] * 0.034\n",
    "    species = [CO2_conc, data['HCO3'], data['CO3']]\n",
    "    colors_pie = [azul_profundo, verde_aqua, azul_claro]\n",
    "    ax2.pie(species, labels=['CO2*', 'HCO3-', 'CO3-2'], autopct='%1.1f%%', colors=colors_pie)\n",
    "    ax2.set_title(f'Composition at pH {data[\"pH\"]:.2f}')\n",
    "    \n",
    "    # Saturation\n",
    "    omega = data['omega']\n",
    "    color = verde_aqua if omega >= 1 else rojo_atardecer\n",
    "    ax3.bar(['Aragonite'], [omega], color=color)\n",
    "    ax3.axhline(1, color=azul_profundo, linestyle='--')\n",
    "    ax3.set_ylabel('Omega'), ax3.set_title('Saturation State')\n",
    "    \n",
    "    # Results\n",
    "    ax4.axis('off')\n",
    "    results_text = f\"\"\"pH = {data['pH']:.2f}\n",
    "pCO2 = {data['pCO2']:.0f} μatm\n",
    "HCO3- = {data['HCO3']:.0f} μmol/kg\n",
    "CO3-2 = {data['CO3']:.0f} μmol/kg\n",
    "DIC = {data['DIC']:.0f} μmol/kg\n",
    "Ω_arag = {omega:.2f}\n",
    "\n",
    "Conditions:\n",
    "S = 35 PSU, T = 25°C\"\"\"\n",
    "    ax4.text(0.1, 0.9, results_text, transform=ax4.transAxes, \n",
    "             fontsize=10, verticalalignment='top', fontfamily='monospace', color=azul_profundo)\n",
    "    \n",
    "    plt.tight_layout()\n",
    "    plt.show()\n",
    "    return fig"
   ]
  },
  {
   "cell_type": "code",
   "execution_count": null,
   "id": "7b5bade7",
   "metadata": {},
   "outputs": [
    {
     "data": {
      "application/vnd.jupyter.widget-view+json": {
       "model_id": "faa9bf722c5546c680998f1be6f791f3",
       "version_major": 2,
       "version_minor": 0
      },
      "text/plain": [
       "VBox(children=(HTML(value='<h3>🌊 Marine Carbonate System Explorer</h3>'), FloatSlider(value=2300.0, descriptio…"
      ]
     },
     "metadata": {},
     "output_type": "display_data"
    },
    {
     "name": "stdout",
     "output_type": "stream",
     "text": [
      "✅ Fast carbonate system interface ready!\n",
      "🎯 Optimized for quick Binder loading\n"
     ]
    }
   ],
   "source": [
    "# Create interface\n",
    "alk_slider = FloatSlider(value=2300, min=1800, max=3000, step=50,\n",
    "                        description=\"Alkalinity:\", style={'description_width': 'initial'})\n",
    "dic_slider = FloatSlider(value=2020, min=1600, max=2800, step=50,\n",
    "                        description=\"DIC:\", style={'description_width': 'initial'})\n",
    "\n",
    "def update_plot(alk, dic):\n",
    "    \"\"\"Update plot when sliders change\"\"\"\n",
    "    data = calc_system(alk, dic)\n",
    "    plot_system(data)\n",
    "\n",
    "# Preset buttons\n",
    "def reset_vals(b): alk_slider.value, dic_slider.value = 2300, 2020\n",
    "def ocean_vals(b): alk_slider.value, dic_slider.value = 2300, 2020\n",
    "def surface_vals(b): alk_slider.value, dic_slider.value = 2300, 1900\n",
    "def deep_vals(b): alk_slider.value, dic_slider.value = 2350, 2200\n",
    "\n",
    "reset_btn = Button(description=\"Reset\", button_style='info')\n",
    "ocean_btn = Button(description=\"Ocean\", button_style='success')\n",
    "surface_btn = Button(description=\"Surface\", button_style='warning')\n",
    "deep_btn = Button(description=\"Deep\", button_style='danger')\n",
    "\n",
    "reset_btn.on_click(reset_vals)\n",
    "ocean_btn.on_click(ocean_vals)\n",
    "surface_btn.on_click(surface_vals)\n",
    "deep_btn.on_click(deep_vals)\n",
    "\n",
    "# Display interface\n",
    "display(VBox([\n",
    "    HTML(\"<h3>🌊 Marine Carbonate System Explorer</h3>\"),\n",
    "    alk_slider, dic_slider,\n",
    "    VBox([ocean_btn, surface_btn, deep_btn, reset_btn]),\n",
    "    interactive_output(update_plot, {'alk': alk_slider, 'dic': dic_slider})\n",
    "]))\n",
    "\n",
    "print(\"✅ Fast carbonate system interface ready!\")\n",
    "print(\"🎯 Optimized for quick Binder loading\")"
   ]
  }
 ],
 "metadata": {
  "kernelspec": {
   "display_name": "carbonate_explorer",
   "language": "python",
   "name": "python3"
  },
  "language_info": {
   "codemirror_mode": {
    "name": "ipython",
    "version": 3
   },
   "file_extension": ".py",
   "mimetype": "text/x-python",
   "name": "python",
   "nbconvert_exporter": "python",
   "pygments_lexer": "ipython3",
   "version": "3.10.18"
  }
 },
 "nbformat": 4,
 "nbformat_minor": 5
}
